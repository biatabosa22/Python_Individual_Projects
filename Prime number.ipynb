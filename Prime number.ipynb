{
 "cells": [
  {
   "cell_type": "markdown",
   "id": "bdd95c14-fe81-4661-8e78-ae78ea816fb6",
   "metadata": {},
   "source": [
    "# Prime Number Finder\n",
    "#### Create a prime_finder() function that takes in a number, n, and returns all the prime numbers from 1 to n (inclusive). As a reminder, a prime number is a number that is only divisible by 1 and itself.\n",
    "\n",
    "#### For example, prime_finder(11) should return [2, 3, 5, 7, 11]."
   ]
  },
  {
   "cell_type": "markdown",
   "id": "01bb3ca7-bdf0-4b53-b1f0-3d2064ed0bed",
   "metadata": {},
   "source": [
    "Every prime number is equal or above the number 2;  \n",
    "Every prime number can`t be divided by any other number below it`s square root (besides one)."
   ]
  },
  {
   "cell_type": "code",
   "execution_count": 6,
   "id": "df4c2c76-131e-40a6-9123-4dd1e79d5ae4",
   "metadata": {},
   "outputs": [],
   "source": [
    "import math |"
   ]
  },
  {
   "cell_type": "code",
   "execution_count": 8,
   "id": "901339ef-daf0-428b-a2f2-c82b09ed7c93",
   "metadata": {},
   "outputs": [],
   "source": [
    "def prime_finder(n):\n",
    "  prime_list = []\n",
    "  for count in range(2, n+1):\n",
    "    prime = True\n",
    "    if count > 1:\n",
    "      for m in range(2, int(math.sqrt(count)) + 1):\n",
    "        if (count % m) == 0:\n",
    "          prime = False \n",
    "          break\n",
    "      if prime:\n",
    "        prime_list.append(count)\n",
    "  return prime_list"
   ]
  },
  {
   "cell_type": "markdown",
   "id": "46feefa7-3abc-455f-a273-c9bbf3ca52c0",
   "metadata": {},
   "source": [
    "Return the list of the prime numbers until __n__:\n"
   ]
  },
  {
   "cell_type": "code",
   "execution_count": 10,
   "id": "217e6154-4fd0-4e26-ba6e-e3d2bdcebaf8",
   "metadata": {},
   "outputs": [
    {
     "name": "stdout",
     "output_type": "stream",
     "text": [
      "[2, 3, 5, 7, 11]\n"
     ]
    }
   ],
   "source": [
    "print(prime_finder(11))"
   ]
  },
  {
   "cell_type": "code",
   "execution_count": null,
   "id": "a44f7696-6096-4f4b-babf-c66d7a6866d4",
   "metadata": {},
   "outputs": [],
   "source": []
  }
 ],
 "metadata": {
  "kernelspec": {
   "display_name": "Python 3 (ipykernel)",
   "language": "python",
   "name": "python3"
  },
  "language_info": {
   "codemirror_mode": {
    "name": "ipython",
    "version": 3
   },
   "file_extension": ".py",
   "mimetype": "text/x-python",
   "name": "python",
   "nbconvert_exporter": "python",
   "pygments_lexer": "ipython3",
   "version": "3.12.4"
  }
 },
 "nbformat": 4,
 "nbformat_minor": 5
}
